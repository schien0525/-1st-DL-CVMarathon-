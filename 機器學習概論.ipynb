{
 "cells": [
  {
   "cell_type": "code",
   "execution_count": null,
   "metadata": {},
   "outputs": [],
   "source": [
    "'''\n",
    "機器學習可以發光發熱的領域：\n",
    "\n",
    "在電商領域中，可以透過回歸\n",
    "來推估產品未來的銷量，\n",
    "並且透過分類或分類去將產品分成不同區間，\n",
    "並依照其不同類別做策略規劃等等\n",
    "'''"
   ]
  }
 ],
 "metadata": {
  "language_info": {
   "codemirror_mode": {
    "name": "ipython",
    "version": 3
   },
   "file_extension": ".py",
   "mimetype": "text/x-python",
   "name": "python",
   "nbconvert_exporter": "python",
   "pygments_lexer": "ipython3",
   "version": 3
  },
  "orig_nbformat": 2
 },
 "nbformat": 4,
 "nbformat_minor": 2
}